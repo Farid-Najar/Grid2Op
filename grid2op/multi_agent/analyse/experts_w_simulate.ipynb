{
 "cells": [
  {
   "cell_type": "markdown",
   "metadata": {},
   "source": [
    "# Experts that use simulate\n",
    "In this notebook we'll analyze the behaviour of experts that use the `simulate` functionality in the observations to choose actions."
   ]
  },
  {
   "cell_type": "code",
   "execution_count": 1,
   "metadata": {},
   "outputs": [
    {
     "name": "stderr",
     "output_type": "stream",
     "text": [
      "/home/najarfar/Internship/Grid2Op/grid2op/multi_agent/multiAgentEnv.py:123: UserWarning: Rules can not be changed in this version.\n",
      "  warnings.warn(\"Rules can not be changed in this version.\")\n",
      "/home/najarfar/Internship/Grid2Op/grid2op/multi_agent/multiAgentEnv.py:129: UserWarning: The central env has been heavily modified (parameters and reset) !\n",
      "  warnings.warn(\"The central env has been heavily modified (parameters and reset) !\")\n"
     ]
    }
   ],
   "source": [
    "from grid2op.Agent import BaseAgent\n",
    "from grid2op.Converter.IdToAct import IdToAct\n",
    "\n",
    "from grid2op.multi_agent.ma_typing import LocalObservation, LocalObservationSpace, \\\n",
    "    LocalAction, LocalActionSpace \n",
    "\n",
    "from grid2op import make\n",
    "from grid2op.Action.PlayableAction import PlayableAction\n",
    "from grid2op.Action import BaseAction\n",
    "from grid2op.multi_agent.multiAgentEnv import MultiAgentEnv\n",
    "import numpy as np\n",
    "from grid2op.multi_agent.multi_agentExceptions import *\n",
    "\n",
    "    \n",
    "import numpy as np\n",
    "\n",
    "from lightsim2grid import LightSimBackend\n",
    "bk_cls = LightSimBackend\n",
    "\n",
    "action_domains = {\n",
    "    'agent_0' : [0,1,2,3, 4],\n",
    "    'agent_1' : [5,6,7,8,9,10,11,12,13]\n",
    "}\n",
    "env_name = \"l2rpn_case14_sandbox\"#\"educ_case14_storage\"\n",
    "env = make(env_name, test=False, backend = bk_cls(),\n",
    "                action_class=PlayableAction, _add_to_name=\"_test_ma\")\n",
    "\n",
    "\n",
    "ma_env = MultiAgentEnv(env, action_domains, copy_env=False)\n",
    "\n",
    "ma_env.seed(0)\n",
    "obs = ma_env.reset()\n",
    "        "
   ]
  },
  {
   "cell_type": "code",
   "execution_count": 2,
   "metadata": {},
   "outputs": [],
   "source": [
    "\n",
    "from typing import Dict\n",
    "from grid2op.multi_agent.ma_typing import MAAgents\n",
    "from grid2op.Environment.BaseEnv import BaseEnv\n",
    "from grid2op.Agent.baseAgent import BaseAgent\n",
    "from grid2op.multi_agent.multiAgentEnv import MultiAgentEnv\n",
    "\n",
    "\n",
    "def _run_simple_actor(\n",
    "    env : BaseEnv,\n",
    "    actor : BaseAgent,\n",
    "    nb_episodes : int,\n",
    "    save_path : str\n",
    ") -> dict:\n",
    "    \n",
    "    T = np.zeros(nb_episodes, dtype = int)\n",
    "    obs = env.reset()\n",
    "    t = 0\n",
    "    \n",
    "    print(\"Running simple simulation !\")\n",
    "    from tqdm.notebook import tqdm\n",
    "    \n",
    "    rewards_history = [[] for _ in range(nb_episodes)]\n",
    "    mean_rewards_history = np.zeros(nb_episodes)\n",
    "    std_rewards_history = np.zeros(nb_episodes)\n",
    "    cumulative_reward = np.zeros(nb_episodes)\n",
    "    \n",
    "    info_history = [[] for _ in range(nb_episodes)]\n",
    "    \n",
    "    obs_history = [[] for _ in range(nb_episodes)]\n",
    "    obs_history[0].append(obs.to_vect())\n",
    "    \n",
    "    done_history = [[] for _ in range(nb_episodes)]\n",
    "    \n",
    "    actions_history = [[] for _ in range(nb_episodes)]\n",
    "    \n",
    "    reward = 0\n",
    "    \n",
    "    for episode in tqdm(range(nb_episodes)):\n",
    "        \n",
    "        while True:\n",
    "            t += 1\n",
    "            obs_history[episode].append(obs.to_vect())\n",
    "            \n",
    "            action = actor.act(observation = obs, reward = reward)\n",
    "            obs, reward, done, info = env.step(action)\n",
    "            \n",
    "            #obs._obs_env = None\n",
    "            rewards_history[episode].append(reward)\n",
    "            info_history[episode].append(info.copy())\n",
    "            done_history[episode].append(done)\n",
    "            actions_history[episode].append(action.copy())\n",
    "\n",
    "            if done:\n",
    "                #mean_rewards_history[episode] = np.mean(rewards_history)\n",
    "                #std_rewards_history[episode] = np.std(rewards_history)\n",
    "                cumulative_reward[episode] = np.sum(rewards_history[episode])\n",
    "                obs = env.reset()\n",
    "                T[episode] = t\n",
    "                t = 0\n",
    "                \n",
    "                break\n",
    "        if (episode+1)%10==0:\n",
    "            np.save(save_path+'/'+f'single_cum_rewards{episode}.npy', arr=cumulative_reward)\n",
    "            np.save(save_path+'/'+f'single_T{episode}.npy', arr=T)\n",
    "            \n",
    "    return {\n",
    "        'rewards' : rewards_history,\n",
    "        #'mean_rewards' : mean_rewards_history,\n",
    "        #'std_rewards' : std_rewards_history,\n",
    "        'episode_len' : T,\n",
    "        'info_history' : info_history,\n",
    "        'observations' : obs_history,\n",
    "        'done_history' : done_history,\n",
    "        'actions' : actions_history,\n",
    "        'cumulative_reward' : cumulative_reward\n",
    "    }\n",
    "\n",
    "def _run_ma_actors(\n",
    "    ma_env : MultiAgentEnv,\n",
    "    actors : MAAgents,\n",
    "    nb_episodes : int,\n",
    "    save_path : str\n",
    ") -> dict:\n",
    "    \n",
    "    print(\"Running multi-agent simulation !\")\n",
    "    \n",
    "    T = np.zeros(nb_episodes, dtype = int)\n",
    "    obs = ma_env.reset()\n",
    "    t = 0\n",
    "    \n",
    "    from tqdm.notebook import tqdm\n",
    "    \n",
    "    rewards_history = [[] for _ in range(nb_episodes)]\n",
    "    mean_rewards_history = np.zeros(nb_episodes)\n",
    "    std_rewards_history = np.zeros(nb_episodes)\n",
    "    cumulative_reward = np.zeros(nb_episodes)\n",
    "    \n",
    "    info_history = [[] for _ in range(nb_episodes)]\n",
    "    \n",
    "    local_actions = [[] for _ in range(nb_episodes)]\n",
    "    \n",
    "    done_history = [[] for _ in range(nb_episodes)]\n",
    "    \n",
    "    actions_history = [[] for _ in range(nb_episodes)]\n",
    "    \n",
    "    obs_history = [[] for _ in range(nb_episodes)]\n",
    "    \n",
    "    r = 0\n",
    "    \n",
    "    for episode in tqdm(range(nb_episodes)):\n",
    "        while True:\n",
    "            t += 1\n",
    "            \n",
    "            obs_history[episode].append(obs[ma_env.agents[0]].to_vect())\n",
    "            \n",
    "            actions = {\n",
    "                agent : actors[agent].act(observation = obs[agent], reward = r)\n",
    "                for agent in ma_env.agents\n",
    "            }\n",
    "            obs, reward, dones, info = ma_env.step(actions)\n",
    "\n",
    "            r = reward[ma_env.agents[0]]\n",
    "            rewards_history[episode].append(r)\n",
    "            info_history[episode].append(info[ma_env.agents[0]].copy())\n",
    "            \n",
    "            #for agent in ma_env.agents:\n",
    "            #    # TODO pourquoi ce problème ?\n",
    "            #    obs[agent]._obs_env = None\n",
    "                \n",
    "            local_actions[episode].append(actions.copy())\n",
    "            done_history[episode].append(dones[ma_env.agents[0]])\n",
    "            actions_history[episode].append(ma_env.global_action.copy())\n",
    "                \n",
    "\n",
    "            if dones[ma_env.agents[0]]:\n",
    "                #mean_rewards_history[episode] = np.mean(rewards_history)\n",
    "                #std_rewards_history[episode] =  np.std(rewards_history)\n",
    "                cumulative_reward[episode] = np.sum(rewards_history[episode])\n",
    "                \n",
    "                obs = ma_env.reset()\n",
    "                T[episode] = t\n",
    "                t = 0\n",
    "                break\n",
    "        if (episode+1)%10 == 0 and episode>0:\n",
    "            np.save(save_path+'/'+f'cum_rewards{episode}.npy', arr=cumulative_reward)\n",
    "            np.save(save_path+'/'+f'T{episode}.npy', arr=T)\n",
    "            np.save(save_path+'/'+f'observations{episode}.npy', arr=obs_history)\n",
    "            np.save(save_path+'/'+f'local_actions{episode}.npy', arr=local_actions)\n",
    "            \n",
    "            \n",
    "    return {\n",
    "        'rewards' : rewards_history,\n",
    "        #'mean_rewards' : mean_rewards_history,\n",
    "        #'std_rewards' : std_rewards_history,\n",
    "        'observations' : obs_history,\n",
    "        'episode_len' : T,\n",
    "        'info_history' : info_history,\n",
    "        'local_actions' : local_actions,\n",
    "        'done_history' : done_history,\n",
    "        'actions' : actions_history,\n",
    "        'cumulative_reward' : cumulative_reward\n",
    "    }\n",
    "\n",
    "    \n",
    "def compare_simple_and_multi(\n",
    "    ma_env, # It is grid2op.multi_agent.multiAgentEnv.MultiAgentEnv\n",
    "    simple_actor : BaseAgent, \n",
    "    ma_actors : MAAgents, \n",
    "    episodes : int = 2,\n",
    "    seed = 0,\n",
    "    chronics_id = 0,\n",
    "    save_path = \"./\",\n",
    "    ):\n",
    "    \n",
    "    ma_env.seed(seed)\n",
    "    ma_env._cent_env.set_id(chronics_id)\n",
    "    \n",
    "    results_simple = _run_simple_actor(ma_env._cent_env, simple_actor, episodes, save_path)\n",
    "    np.save(save_path+'/'+f'results_simple{episodes}.npy', arr=results_simple)\n",
    "    \n",
    "    \n",
    "    ma_env.seed(seed)\n",
    "    ma_env._cent_env.set_id(chronics_id)\n",
    "    results_ma = _run_ma_actors(ma_env, ma_actors, episodes, save_path)\n",
    "    np.save(save_path+'/'+f'results_ma{episodes}.npy', arr=results_ma)\n",
    "    \n",
    "    #save results\n",
    "    # TODO\n",
    "    \n",
    "    return results_simple, results_ma"
   ]
  },
  {
   "cell_type": "markdown",
   "metadata": {},
   "source": [
    "### Predictors\n",
    "Here we define predictors than given an observation (local or global), it predicts the coworker's action."
   ]
  },
  {
   "cell_type": "code",
   "execution_count": 3,
   "metadata": {},
   "outputs": [],
   "source": [
    "class Predictor:\n",
    "    def __init__(self, \n",
    "                 action_space,\n",
    "                 do_nothing = False,\n",
    "                 model = None,\n",
    "                 nn_kwargs = {}):\n",
    "        \n",
    "        self.action_space = action_space\n",
    "        self.do_nothing = do_nothing\n",
    "        self.model = model\n",
    "        \n",
    "        res = [self.action_space({})]  # add the do nothing\n",
    "        res += self.action_space.get_all_unitary_topologies_set(self.action_space)\n",
    "        self.all_actions = res\n",
    "        \n",
    "    \n",
    "    def predict(self, observation : LocalObservation) -> LocalAction:\n",
    "        if self.do_nothing:\n",
    "            return self.action_space({})\n",
    "        elif self.model is not None:\n",
    "            #TODO return the prediction\n",
    "            a = self.model.predict([observation.to_vect()])[0]\n",
    "            return self.all_actions[a]\n",
    "        else:\n",
    "            raise(\"Model is missing !\")\n",
    "            "
   ]
  },
  {
   "cell_type": "markdown",
   "metadata": {},
   "source": [
    "### Local greedy expert with topological actions only\n",
    "Here, local experts aim to find the best topological action using the simulate "
   ]
  },
  {
   "cell_type": "code",
   "execution_count": 4,
   "metadata": {},
   "outputs": [],
   "source": [
    "from typing import List, Optional\n",
    "import copy\n",
    "\n",
    "class LocalTopologyGreedyExpert(BaseAgent):\n",
    "    def __init__(self,\n",
    "                 agent_nm,\n",
    "                 action_space,\n",
    "                 ma_env,\n",
    "                 predictors : Optional[List[Predictor]] = None,\n",
    "                 **kwargs):\n",
    "        super().__init__(action_space)\n",
    "        \n",
    "        self.agent_nm = agent_nm\n",
    "        self.other_agents = [\n",
    "            agent\n",
    "            for agent in ma_env.agents if agent != agent_nm\n",
    "        ]\n",
    "        self.executed_actions = set()\n",
    "        \n",
    "        self.action_space = action_space\n",
    "        \n",
    "        self.curr_iter = 0\n",
    "        self.ma_env = ma_env\n",
    "        \n",
    "        self.global_action_space = ma_env._cent_env.action_space\n",
    "        \n",
    "        if predictors is None:\n",
    "            self.predictors = {\n",
    "                agent : Predictor(ma_env.action_spaces[agent], do_nothing=True)\n",
    "                for agent in self.other_agents\n",
    "            }\n",
    "        else:\n",
    "            self.predictors = predictors\n",
    "            \n",
    "        self.tested_action = None\n",
    "            \n",
    "    def act(self, observation : LocalObservation, reward, done = False):\n",
    "        self.curr_iter += 1\n",
    "\n",
    "        # Look for overloads and rank them\n",
    "        #ltc_list = self.getRankedOverloads(observation)\n",
    "        #counterTestedOverloads = 0\n",
    "        #overloaded = np.any(observation.rho >= 1)\n",
    "        #\n",
    "        #if not overloaded:\n",
    "        #    return self.action_space({})\n",
    "        #else:\n",
    "        other_actions = {\n",
    "            agent : self.predictors[agent].predict(observation)\n",
    "            for agent in self.other_agents\n",
    "        }\n",
    "        \n",
    "        self.tested_action = self._get_tested_action(observation)\n",
    "        if len(self.tested_action) > 1:\n",
    "            self.resulting_rewards = np.full(\n",
    "                shape=len(self.tested_action), fill_value=-np.infty, dtype=float\n",
    "            )\n",
    "            for i, action in enumerate(self.tested_action):\n",
    "                actions = copy.deepcopy(other_actions)\n",
    "                actions.update({self.agent_nm : action})\n",
    "                a = action.to_global(self.ma_env._cent_env.action_space)\n",
    "                is_legal, reason = self.ma_env._cent_env._game_rules(action=a, env=self.ma_env._cent_env)\n",
    "                if is_legal:\n",
    "                    (\n",
    "                        simul_obs,\n",
    "                        simul_reward,\n",
    "                        simul_has_error,\n",
    "                        simul_info,\n",
    "                    ) = observation.simulate(actions)\n",
    "                    self.resulting_rewards[i] = simul_reward\n",
    "                else:\n",
    "                    self.resulting_rewards[i] = -np.infty\n",
    "\n",
    "            reward_idx = int(\n",
    "                np.argmax(self.resulting_rewards)\n",
    "            )\n",
    "            \n",
    "            best_action = self.tested_action[reward_idx]\n",
    "        else:\n",
    "            best_action = self.tested_action[0]\n",
    "            \n",
    "        return best_action\n",
    "        \n",
    "    def _get_tested_action(self, observation):\n",
    "        if self.tested_action is None:\n",
    "            res = [self.action_space({})]  # add the do nothing\n",
    "            # better use \"get_all_unitary_topologies_set\" and not \"get_all_unitary_topologies_change\"\n",
    "            # maybe \"change\" are still \"bugged\" (in the sens they don't count all topologies exactly once)\n",
    "            res += self.action_space.get_all_unitary_topologies_set(self.action_space)\n",
    "            self.tested_action = res\n",
    "        return self.tested_action\n",
    "            \n",
    "    def reset(self, observation):\n",
    "        # No internal states to reset\n",
    "        pass\n",
    "\n",
    "    def load(self, path):\n",
    "        # Nothing to load\n",
    "        pass\n",
    "\n",
    "    def save(self, path):\n",
    "        # Nothing to save\n",
    "        pass"
   ]
  },
  {
   "cell_type": "markdown",
   "metadata": {},
   "source": [
    "### Assuming others do nothing\n",
    "In this section, each agent assumes that other agents don't act on the grid. Hence, it has to do the best it can."
   ]
  },
  {
   "cell_type": "code",
   "execution_count": 6,
   "metadata": {},
   "outputs": [
    {
     "name": "stdout",
     "output_type": "stream",
     "text": [
      "Running simple simulation !\n"
     ]
    },
    {
     "data": {
      "application/vnd.jupyter.widget-view+json": {
       "model_id": "0bd87e8e066d40c3a9cb629f017d3f9e",
       "version_major": 2,
       "version_minor": 0
      },
      "text/plain": [
       "  0%|          | 0/50 [00:00<?, ?it/s]"
      ]
     },
     "metadata": {},
     "output_type": "display_data"
    },
    {
     "name": "stdout",
     "output_type": "stream",
     "text": [
      "Running multi-agent simulation !\n"
     ]
    },
    {
     "data": {
      "application/vnd.jupyter.widget-view+json": {
       "model_id": "fa8d4e350ede4b42a7bfe82f0f43772b",
       "version_major": 2,
       "version_minor": 0
      },
      "text/plain": [
       "  0%|          | 0/50 [00:00<?, ?it/s]"
      ]
     },
     "metadata": {},
     "output_type": "display_data"
    },
    {
     "name": "stderr",
     "output_type": "stream",
     "text": [
      "/home/najarfar/anaconda3/envs/grid2op/lib/python3.9/site-packages/numpy/lib/npyio.py:518: VisibleDeprecationWarning: Creating an ndarray from ragged nested sequences (which is a list-or-tuple of lists-or-tuples-or ndarrays with different lengths or shapes) is deprecated. If you meant to do this, you must specify 'dtype=object' when creating the ndarray.\n",
      "  arr = np.asanyarray(arr)\n",
      "/home/najarfar/anaconda3/envs/grid2op/lib/python3.9/site-packages/numpy/lib/npyio.py:518: VisibleDeprecationWarning: Creating an ndarray from ragged nested sequences (which is a list-or-tuple of lists-or-tuples-or ndarrays with different lengths or shapes) is deprecated. If you meant to do this, you must specify 'dtype=object' when creating the ndarray.\n",
      "  arr = np.asanyarray(arr)\n",
      "/home/najarfar/anaconda3/envs/grid2op/lib/python3.9/site-packages/numpy/lib/npyio.py:518: VisibleDeprecationWarning: Creating an ndarray from ragged nested sequences (which is a list-or-tuple of lists-or-tuples-or ndarrays with different lengths or shapes) is deprecated. If you meant to do this, you must specify 'dtype=object' when creating the ndarray.\n",
      "  arr = np.asanyarray(arr)\n",
      "/home/najarfar/anaconda3/envs/grid2op/lib/python3.9/site-packages/numpy/lib/npyio.py:518: VisibleDeprecationWarning: Creating an ndarray from ragged nested sequences (which is a list-or-tuple of lists-or-tuples-or ndarrays with different lengths or shapes) is deprecated. If you meant to do this, you must specify 'dtype=object' when creating the ndarray.\n",
      "  arr = np.asanyarray(arr)\n"
     ]
    },
    {
     "ename": "",
     "evalue": "",
     "output_type": "error",
     "traceback": [
      "\u001b[1;31mCanceled future for execute_request message before replies were done"
     ]
    },
    {
     "ename": "",
     "evalue": "",
     "output_type": "error",
     "traceback": [
      "\u001b[1;31mThe Kernel crashed while executing code in the the current cell or a previous cell. Please review the code in the cell(s) to identify a possible cause of the failure. Click <a href='https://aka.ms/vscodeJupyterKernelCrash'>here</a> for more info. View Jupyter <a href='command:jupyter.viewOutput'>log</a> for further details."
     ]
    }
   ],
   "source": [
    "\n",
    "from grid2op.Agent import TopologyGreedy, DoNothingAgent\n",
    "\n",
    "simple_actor = DoNothingAgent(env.action_space)\n",
    "episodes = 50\n",
    "ma_actors = dict()\n",
    "for agent_nm in ma_env.agents:\n",
    "    ma_actors[agent_nm] = LocalTopologyGreedyExpert(\n",
    "        agent_nm,\n",
    "        ma_env.action_spaces[agent_nm],\n",
    "        ma_env\n",
    "    )\n",
    "\n",
    "\n",
    "results_simple, results_ma = compare_simple_and_multi(\n",
    "    ma_env,\n",
    "    simple_actor=simple_actor,\n",
    "    ma_actors=ma_actors,\n",
    "    episodes=episodes,\n",
    "    save_path=f'./results{episodes}'\n",
    "    # TODO plus d'episodes\n",
    ")"
   ]
  },
  {
   "cell_type": "code",
   "execution_count": 19,
   "metadata": {},
   "outputs": [],
   "source": [
    "for episode in range(episodes):\n",
    "    assert (results_simple['observations'][episode][0] == results_ma['observations'][episode][0]).all()"
   ]
  },
  {
   "cell_type": "code",
   "execution_count": 2,
   "metadata": {},
   "outputs": [
    {
     "ename": "NameError",
     "evalue": "name 'np' is not defined",
     "output_type": "error",
     "traceback": [
      "\u001b[0;31m---------------------------------------------------------------------------\u001b[0m",
      "\u001b[0;31mNameError\u001b[0m                                 Traceback (most recent call last)",
      "\u001b[1;32m/home/najarfar/Internship/Grid2Op/grid2op/multi_agent/analyse/experts_w_simulate.ipynb Cell 11'\u001b[0m in \u001b[0;36m<cell line: 1>\u001b[0;34m()\u001b[0m\n\u001b[0;32m----> <a href='vscode-notebook-cell:/home/najarfar/Internship/Grid2Op/grid2op/multi_agent/analyse/experts_w_simulate.ipynb#ch0000011?line=0'>1</a>\u001b[0m np\u001b[39m.\u001b[39msave(\u001b[39m'\u001b[39m\u001b[39mresults_ma_l2rpn100.npy\u001b[39m\u001b[39m'\u001b[39m, arr\u001b[39m=\u001b[39mresults_ma)\n\u001b[1;32m      <a href='vscode-notebook-cell:/home/najarfar/Internship/Grid2Op/grid2op/multi_agent/analyse/experts_w_simulate.ipynb#ch0000011?line=1'>2</a>\u001b[0m np\u001b[39m.\u001b[39msave(\u001b[39m'\u001b[39m\u001b[39mresults_do_nothing_l2rpn100.npy\u001b[39m\u001b[39m'\u001b[39m, arr\u001b[39m=\u001b[39mresults_simple)\n",
      "\u001b[0;31mNameError\u001b[0m: name 'np' is not defined"
     ]
    }
   ],
   "source": [
    "np.save('results_ma_l2rpn100.npy', arr=results_ma)\n",
    "np.save('results_do_nothing_l2rpn100.npy', arr=results_simple)"
   ]
  },
  {
   "cell_type": "code",
   "execution_count": 3,
   "metadata": {},
   "outputs": [
    {
     "ename": "NameError",
     "evalue": "name 'results_ma' is not defined",
     "output_type": "error",
     "traceback": [
      "\u001b[0;31m---------------------------------------------------------------------------\u001b[0m",
      "\u001b[0;31mNameError\u001b[0m                                 Traceback (most recent call last)",
      "\u001b[1;32m/home/najarfar/Internship/Grid2Op/grid2op/multi_agent/analyse/experts_w_simulate.ipynb Cell 12'\u001b[0m in \u001b[0;36m<cell line: 1>\u001b[0;34m()\u001b[0m\n\u001b[0;32m----> <a href='vscode-notebook-cell:/home/najarfar/Internship/Grid2Op/grid2op/multi_agent/analyse/experts_w_simulate.ipynb#ch0000048?line=0'>1</a>\u001b[0m results_ma[\u001b[39m'\u001b[39m\u001b[39mcumulative_rewards\u001b[39m\u001b[39m'\u001b[39m]\n",
      "\u001b[0;31mNameError\u001b[0m: name 'results_ma' is not defined"
     ]
    }
   ],
   "source": [
    "results_ma['cumulative_rewards']"
   ]
  },
  {
   "cell_type": "code",
   "execution_count": 21,
   "metadata": {},
   "outputs": [],
   "source": [
    "res = np.load('results_ma_l2rpn.npy', allow_pickle=True)[None][0]"
   ]
  },
  {
   "cell_type": "code",
   "execution_count": 22,
   "metadata": {},
   "outputs": [
    {
     "name": "stdout",
     "output_type": "stream",
     "text": [
      "0\n"
     ]
    }
   ],
   "source": [
    "episodes = len(res['info_history'])\n",
    "\n",
    "is_illegal_ma = [[] for _ in range(episodes)]\n",
    "\n",
    "reason_illegal_ma = [[] for _ in range(episodes)]\n",
    "\n",
    "for episode in range(episodes):\n",
    "    for info in res['info_history'][episode]:\n",
    "        is_illegal_ma[episode].append(info['action_is_illegal'])\n",
    "        if is_illegal_ma[episode][-1]:\n",
    "            reason_illegal_ma[episode].append(info['reason_illegal'])\n",
    "print(np.concatenate(is_illegal_ma).sum())#np.concatenate(res['local_actions'])[np.concatenate(is_illegal_ma)][1]['agent_1'])"
   ]
  },
  {
   "cell_type": "code",
   "execution_count": null,
   "metadata": {},
   "outputs": [
    {
     "name": "stdout",
     "output_type": "stream",
     "text": [
      "Running simple simulation !\n"
     ]
    },
    {
     "data": {
      "application/vnd.jupyter.widget-view+json": {
       "model_id": "15dd06ad39ff400eaf5c7b8ff452cd5e",
       "version_major": 2,
       "version_minor": 0
      },
      "text/plain": [
       "  0%|          | 0/10 [00:00<?, ?it/s]"
      ]
     },
     "metadata": {},
     "output_type": "display_data"
    }
   ],
   "source": [
    "ma_env.seed(0)\n",
    "ma_env._cent_env.set_id(0)\n",
    "simple_actor = TopologyGreedy(ma_env._cent_env.action_space)\n",
    "\n",
    "results_simple1 = _run_simple_actor(ma_env._cent_env, simple_actor, 100)\n",
    "np.save(\"results_simple_l2rpn100.npy\", arr=results_simple1)"
   ]
  },
  {
   "cell_type": "code",
   "execution_count": 15,
   "metadata": {},
   "outputs": [],
   "source": [
    "from grid2op.Agent.fromActionsListAgent import FromActionsListAgent\n",
    "\n",
    "one_agent_replays = []\n",
    "replays = []\n",
    "for episode in range(episodes):\n",
    "    # Faire plusieurs replay sur plusieurs episodes\n",
    "    replays.append(\n",
    "        FromActionsListAgent(\n",
    "            env.action_space,\n",
    "            results_ma['actions'][episode]\n",
    "        )\n",
    "    )\n",
    "    \n",
    "    one_agent_replays.append(\n",
    "        FromActionsListAgent(\n",
    "            env.action_space,\n",
    "            results_simple['actions'][episode]\n",
    "        )\n",
    "    )"
   ]
  },
  {
   "cell_type": "code",
   "execution_count": null,
   "metadata": {},
   "outputs": [],
   "source": [
    "print(results_ma['cumulative_reward'] - results_simple['cumulative_reward'])"
   ]
  },
  {
   "cell_type": "code",
   "execution_count": null,
   "metadata": {},
   "outputs": [],
   "source": [
    "illegal_hist = [results_ma['info_history'][0][i][\"is_illegal\"] for i in range(len(results_ma['info_history']))]\n",
    "np.where(illegal_hist)"
   ]
  },
  {
   "cell_type": "code",
   "execution_count": null,
   "metadata": {},
   "outputs": [],
   "source": [
    "print(results_ma['episode_len'][0])"
   ]
  },
  {
   "cell_type": "code",
   "execution_count": null,
   "metadata": {},
   "outputs": [],
   "source": [
    "for a in results_ma['actions'][0]:\n",
    "    print(a)"
   ]
  },
  {
   "cell_type": "code",
   "execution_count": null,
   "metadata": {},
   "outputs": [],
   "source": [
    "box_names = ['simple', 'ma']\n",
    "\n",
    "plt.boxplot([results_simple['cumulative_reward'], results_ma['cumulative_reward']])\n",
    "plt.xticks([1, 2], box_names)"
   ]
  },
  {
   "cell_type": "code",
   "execution_count": null,
   "metadata": {},
   "outputs": [],
   "source": [
    "box_names = ['simple', 'ma']\n",
    "\n",
    "plt.boxplot([results_simple['episode_len'], results_ma['episode_len']])\n",
    "plt.xticks([1, 2], box_names)"
   ]
  },
  {
   "cell_type": "code",
   "execution_count": null,
   "metadata": {},
   "outputs": [],
   "source": [
    "from grid2op.Agent import DoNothingAgent\n",
    "env = ma_env._cent_env\n",
    "env.seed(0)\n",
    "env.set_id(0)\n",
    "\n",
    "results_do_nothing = _run_simple_actor(env, actor=DoNothingAgent(env.action_space), nb_episodes=episodes)\n",
    "rs_donothing = np.mean(results_do_nothing['rewards'], axis=0)"
   ]
  },
  {
   "cell_type": "code",
   "execution_count": null,
   "metadata": {},
   "outputs": [],
   "source": [
    "rs_ma = []\n",
    "rs_simple = []\n",
    "for episode in range(episodes):\n",
    "    rs_ma += list(results_ma['rewards'][episode])\n",
    "    rs_simple += list(results_simple['rewards'][episode])"
   ]
  },
  {
   "cell_type": "code",
   "execution_count": null,
   "metadata": {},
   "outputs": [],
   "source": [
    "rs_ma = np.array(rs_ma)#np.load('rewards_ma_educ_storage2.npy')\n",
    "rs_simple = np.array(rs_simple)#np.load('rewards_simple_educ_storage2.npy')\n",
    "import matplotlib.pyplot as plt\n",
    "plt.figure(figsize = (21,13))\n",
    "#rs_ma = np.mean(rs_ma, axis=0)\n",
    "#rs_simple = np.mean(rs_simple, axis=0)\n",
    "#rs_ma = rs_ma.flatten()\n",
    "#rs_simple = rs_simple.flatten()\n",
    "plt.plot(rs_ma, label='ma')\n",
    "plt.plot(rs_simple, label='simple')\n",
    "#plt.plot(rs_donothing, label='do nothing')\n",
    "plt.legend()"
   ]
  },
  {
   "cell_type": "code",
   "execution_count": null,
   "metadata": {},
   "outputs": [],
   "source": [
    "plt.figure(figsize = (21,13))\n",
    "plt.plot(np.cumsum(rs_ma) - np.cumsum(rs_simple), label='ma - simple')\n",
    "plt.hlines(y=0, xmin=0, xmax=len(rs_ma), colors='red', label='0')\n",
    "#plt.plot(rs_donothing, label='do nothing')\n",
    "plt.legend()"
   ]
  },
  {
   "cell_type": "code",
   "execution_count": null,
   "metadata": {},
   "outputs": [],
   "source": [
    "env = make(env_name, test=True, backend = bk_cls(),\n",
    "                action_class=PlayableAction, _add_to_name=\"_test_ma\")\n",
    "\n",
    "\n",
    "ma_env = MultiAgentEnv(env, action_domains, copy_env=False)\n",
    "\n",
    "#env = ma_env._cent_env \n",
    "ma_env.seed(0)\n",
    "ma_env._cent_env.set_id(0)\n",
    "obs = ma_env.reset()\n",
    "i = 0\n",
    "rewards = []\n",
    "\n",
    "#from grid2op.PlotGrid import PlotMatplot\n",
    "#plot_helper = PlotMatplot(env.observation_space)\n",
    "#_ = plot_helper.plot_obs(obs['agent_0'])\n",
    "\n",
    "while True:\n",
    "    action = results_ma['actions'][0][i]\n",
    "    i += 1\n",
    "    new_obs, reward, done, info = ma_env._cent_env.step(action)\n",
    "    rewards.append(reward)\n",
    "    if done :\n",
    "        plt.plot(rewards, label = 'replay')\n",
    "        plt.plot(results_ma['rewards'][0], label = 'ma')\n",
    "        plt.legend()\n",
    "        plt.show()\n",
    "        plt.plot(np.array(rewards) - np.array(results_ma['rewards'][0]))\n",
    "        assert (np.array(rewards) - np.array(results_ma['rewards'][0]) == 0).all()\n",
    "        #_ = plot_helper.plot_obs(obs)\n",
    "        break\n",
    "    obs = new_obs"
   ]
  },
  {
   "cell_type": "code",
   "execution_count": null,
   "metadata": {},
   "outputs": [],
   "source": [
    "action = results_ma['actions'][0][i]\n",
    "print(action)\n",
    "i+=1\n",
    "obs, reward, done, info = env.step(action)\n",
    "_ = plot_helper.plot_obs(obs)"
   ]
  },
  {
   "cell_type": "code",
   "execution_count": 52,
   "metadata": {},
   "outputs": [
    {
     "data": {
      "application/vnd.jupyter.widget-view+json": {
       "model_id": "7add5ee7d9634725b67ead71c805f149",
       "version_major": 2,
       "version_minor": 0
      },
      "text/plain": [
       "episode:   0%|          | 0/1 [00:00<?, ?it/s]"
      ]
     },
     "metadata": {},
     "output_type": "display_data"
    },
    {
     "data": {
      "application/vnd.jupyter.widget-view+json": {
       "model_id": "69a41c9991964951b6ad80d05056d166",
       "version_major": 2,
       "version_minor": 0
      },
      "text/plain": [
       "episode:   0%|          | 0/288 [00:00<?, ?it/s]"
      ]
     },
     "metadata": {},
     "output_type": "display_data"
    },
    {
     "name": "stdout",
     "output_type": "stream",
     "text": [
      "The results for the evaluated agent are:\n",
      "\tFor chronics with id 2019-01-12\n",
      "\t\t - cumulative reward: 4934.723633\n",
      "\t\t - number of time steps completed: 288 / 288\n"
     ]
    },
    {
     "data": {
      "application/vnd.jupyter.widget-view+json": {
       "model_id": "2a8e12597f0d44b5bd9402a06e5c2d8c",
       "version_major": 2,
       "version_minor": 0
      },
      "text/plain": [
       "episode:   0%|          | 0/1 [00:00<?, ?it/s]"
      ]
     },
     "metadata": {},
     "output_type": "display_data"
    },
    {
     "data": {
      "application/vnd.jupyter.widget-view+json": {
       "model_id": "0b2d0eb072794fbcb20f922c567b3c81",
       "version_major": 2,
       "version_minor": 0
      },
      "text/plain": [
       "episode:   0%|          | 0/288 [00:00<?, ?it/s]"
      ]
     },
     "metadata": {},
     "output_type": "display_data"
    },
    {
     "name": "stdout",
     "output_type": "stream",
     "text": [
      "The results for the evaluated agent are:\n",
      "\tFor chronics with id 2019-01-13\n",
      "\t\t - cumulative reward: 4915.105957\n",
      "\t\t - number of time steps completed: 288 / 288\n"
     ]
    },
    {
     "data": {
      "application/vnd.jupyter.widget-view+json": {
       "model_id": "f38cfa42b43a4084a636a4bb041ff6ec",
       "version_major": 2,
       "version_minor": 0
      },
      "text/plain": [
       "episode:   0%|          | 0/1 [00:00<?, ?it/s]"
      ]
     },
     "metadata": {},
     "output_type": "display_data"
    },
    {
     "data": {
      "application/vnd.jupyter.widget-view+json": {
       "model_id": "1605d9e41c574a0885d9dfba8dd42fa0",
       "version_major": 2,
       "version_minor": 0
      },
      "text/plain": [
       "episode:   0%|          | 0/288 [00:00<?, ?it/s]"
      ]
     },
     "metadata": {},
     "output_type": "display_data"
    },
    {
     "name": "stdout",
     "output_type": "stream",
     "text": [
      "The results for the evaluated agent are:\n",
      "\tFor chronics with id 2019-01-14\n",
      "\t\t - cumulative reward: 3727.450439\n",
      "\t\t - number of time steps completed: 231 / 288\n"
     ]
    },
    {
     "data": {
      "application/vnd.jupyter.widget-view+json": {
       "model_id": "c8badfa00b794d148e27e97fc3b92e77",
       "version_major": 2,
       "version_minor": 0
      },
      "text/plain": [
       "episode:   0%|          | 0/1 [00:00<?, ?it/s]"
      ]
     },
     "metadata": {},
     "output_type": "display_data"
    },
    {
     "data": {
      "application/vnd.jupyter.widget-view+json": {
       "model_id": "6a0862d7eb1b403c859034b719d70086",
       "version_major": 2,
       "version_minor": 0
      },
      "text/plain": [
       "episode:   0%|          | 0/288 [00:00<?, ?it/s]"
      ]
     },
     "metadata": {},
     "output_type": "display_data"
    },
    {
     "name": "stdout",
     "output_type": "stream",
     "text": [
      "The results for the evaluated agent are:\n",
      "\tFor chronics with id 2019-01-15\n",
      "\t\t - cumulative reward: 4600.995117\n",
      "\t\t - number of time steps completed: 288 / 288\n"
     ]
    },
    {
     "data": {
      "application/vnd.jupyter.widget-view+json": {
       "model_id": "7ef3cfd67bc74eef93ab36d7612de9cd",
       "version_major": 2,
       "version_minor": 0
      },
      "text/plain": [
       "episode:   0%|          | 0/1 [00:00<?, ?it/s]"
      ]
     },
     "metadata": {},
     "output_type": "display_data"
    },
    {
     "data": {
      "application/vnd.jupyter.widget-view+json": {
       "model_id": "8c5b03fce83446d4a710b00cec212bfc",
       "version_major": 2,
       "version_minor": 0
      },
      "text/plain": [
       "episode:   0%|          | 0/288 [00:00<?, ?it/s]"
      ]
     },
     "metadata": {},
     "output_type": "display_data"
    },
    {
     "name": "stdout",
     "output_type": "stream",
     "text": [
      "The results for the evaluated agent are:\n",
      "\tFor chronics with id 2019-01-16\n",
      "\t\t - cumulative reward: 2430.205811\n",
      "\t\t - number of time steps completed: 147 / 288\n"
     ]
    },
    {
     "data": {
      "application/vnd.jupyter.widget-view+json": {
       "model_id": "594ffcbdb17b43b88c9814a5f9835b20",
       "version_major": 2,
       "version_minor": 0
      },
      "text/plain": [
       "episode:   0%|          | 0/1 [00:00<?, ?it/s]"
      ]
     },
     "metadata": {},
     "output_type": "display_data"
    },
    {
     "data": {
      "application/vnd.jupyter.widget-view+json": {
       "model_id": "4d5e4c7640664667b57332b2b7661b26",
       "version_major": 2,
       "version_minor": 0
      },
      "text/plain": [
       "episode:   0%|          | 0/288 [00:00<?, ?it/s]"
      ]
     },
     "metadata": {},
     "output_type": "display_data"
    },
    {
     "name": "stdout",
     "output_type": "stream",
     "text": [
      "The results for the evaluated agent are:\n",
      "\tFor chronics with id 2019-01-17\n",
      "\t\t - cumulative reward: 1808.123657\n",
      "\t\t - number of time steps completed: 109 / 288\n"
     ]
    },
    {
     "data": {
      "application/vnd.jupyter.widget-view+json": {
       "model_id": "75a1eb7fe5be49a8b108ff98fa2132f9",
       "version_major": 2,
       "version_minor": 0
      },
      "text/plain": [
       "episode:   0%|          | 0/1 [00:00<?, ?it/s]"
      ]
     },
     "metadata": {},
     "output_type": "display_data"
    },
    {
     "data": {
      "application/vnd.jupyter.widget-view+json": {
       "model_id": "7791f76b9c9242aebcc682a41e9c8fe0",
       "version_major": 2,
       "version_minor": 0
      },
      "text/plain": [
       "episode:   0%|          | 0/288 [00:00<?, ?it/s]"
      ]
     },
     "metadata": {},
     "output_type": "display_data"
    },
    {
     "name": "stdout",
     "output_type": "stream",
     "text": [
      "The results for the evaluated agent are:\n",
      "\tFor chronics with id 2019-01-18\n",
      "\t\t - cumulative reward: 1475.211914\n",
      "\t\t - number of time steps completed: 93 / 288\n"
     ]
    },
    {
     "data": {
      "application/vnd.jupyter.widget-view+json": {
       "model_id": "af1f8e05a4bd4e2abc941cea84a7b90f",
       "version_major": 2,
       "version_minor": 0
      },
      "text/plain": [
       "episode:   0%|          | 0/1 [00:00<?, ?it/s]"
      ]
     },
     "metadata": {},
     "output_type": "display_data"
    },
    {
     "data": {
      "application/vnd.jupyter.widget-view+json": {
       "model_id": "2cd9eac7ea314c368595d5f4d08b9a1a",
       "version_major": 2,
       "version_minor": 0
      },
      "text/plain": [
       "episode:   0%|          | 0/288 [00:00<?, ?it/s]"
      ]
     },
     "metadata": {},
     "output_type": "display_data"
    },
    {
     "name": "stdout",
     "output_type": "stream",
     "text": [
      "The results for the evaluated agent are:\n",
      "\tFor chronics with id 2019-01-12\n",
      "\t\t - cumulative reward: 4934.723633\n",
      "\t\t - number of time steps completed: 288 / 288\n"
     ]
    },
    {
     "data": {
      "application/vnd.jupyter.widget-view+json": {
       "model_id": "452586f6924a41209df963fb4f29dfb2",
       "version_major": 2,
       "version_minor": 0
      },
      "text/plain": [
       "episode:   0%|          | 0/1 [00:00<?, ?it/s]"
      ]
     },
     "metadata": {},
     "output_type": "display_data"
    },
    {
     "data": {
      "application/vnd.jupyter.widget-view+json": {
       "model_id": "90a2b0681b9449898ae25292666ad397",
       "version_major": 2,
       "version_minor": 0
      },
      "text/plain": [
       "episode:   0%|          | 0/288 [00:00<?, ?it/s]"
      ]
     },
     "metadata": {},
     "output_type": "display_data"
    },
    {
     "name": "stdout",
     "output_type": "stream",
     "text": [
      "The results for the evaluated agent are:\n",
      "\tFor chronics with id 2019-01-13\n",
      "\t\t - cumulative reward: 4915.105957\n",
      "\t\t - number of time steps completed: 288 / 288\n"
     ]
    },
    {
     "data": {
      "application/vnd.jupyter.widget-view+json": {
       "model_id": "412ea709a739483aaf90ee0ad1a9be08",
       "version_major": 2,
       "version_minor": 0
      },
      "text/plain": [
       "episode:   0%|          | 0/1 [00:00<?, ?it/s]"
      ]
     },
     "metadata": {},
     "output_type": "display_data"
    },
    {
     "data": {
      "application/vnd.jupyter.widget-view+json": {
       "model_id": "fa3c56b414de4eb5be8e4976825bb27b",
       "version_major": 2,
       "version_minor": 0
      },
      "text/plain": [
       "episode:   0%|          | 0/288 [00:00<?, ?it/s]"
      ]
     },
     "metadata": {},
     "output_type": "display_data"
    },
    {
     "name": "stdout",
     "output_type": "stream",
     "text": [
      "The results for the evaluated agent are:\n",
      "\tFor chronics with id 2019-01-14\n",
      "\t\t - cumulative reward: 3727.450439\n",
      "\t\t - number of time steps completed: 231 / 288\n"
     ]
    }
   ],
   "source": [
    "from grid2op.Runner import Runner\n",
    "import os \n",
    "import shutil\n",
    "from tqdm.notebook import tqdm\n",
    "\n",
    "env = ma_env._cent_env \n",
    "\n",
    "path_agents = \"study_agent_getting_started\"\n",
    "max_iter = 10_000\n",
    "\n",
    "shutil.rmtree(os.path.abspath(path_agents), ignore_errors=True)\n",
    "if not os.path.exists(path_agents):\n",
    "    os.mkdir(path_agents)\n",
    "\n",
    "# make a runner for this agent\n",
    "path_agent = os.path.join(path_agents, \"ReplayAgent\")\n",
    "shutil.rmtree(os.path.abspath(path_agent), ignore_errors=True)\n",
    "\n",
    "env.seed(0)\n",
    "env.set_id(0)\n",
    "\n",
    "replay_cum_rewards = []\n",
    "\n",
    "for i, replay in enumerate(replays):\n",
    "\n",
    "    runner = Runner(**env.get_params_for_runner(),\n",
    "                    agentClass=None,\n",
    "                    agentInstance=replay\n",
    "                    )\n",
    "    res = runner.run(path_save=path_agent,\n",
    "                     nb_episode=1, \n",
    "                     max_iter=max_iter,\n",
    "                     env_seeds=[0],\n",
    "                     episode_id=[i],\n",
    "                     pbar=tqdm)\n",
    "    print(\"The results for the evaluated agent are:\")\n",
    "    for _, chron_id, cum_reward, nb_time_step, max_ts in res:\n",
    "        replay_cum_rewards.append(cum_reward)\n",
    "        msg_tmp = \"\\tFor chronics with id {}\\n\".format(chron_id)\n",
    "        msg_tmp += \"\\t\\t - cumulative reward: {:.6f}\\n\".format(cum_reward)\n",
    "        msg_tmp += \"\\t\\t - number of time steps completed: {:.0f} / {:.0f}\".format(nb_time_step, max_ts)\n",
    "        print(msg_tmp)"
   ]
  },
  {
   "cell_type": "code",
   "execution_count": 53,
   "metadata": {},
   "outputs": [
    {
     "data": {
      "application/vnd.jupyter.widget-view+json": {
       "model_id": "21bfd3e321f64975baf271fdb1e2720e",
       "version_major": 2,
       "version_minor": 0
      },
      "text/plain": [
       "episode:   0%|          | 0/1 [00:00<?, ?it/s]"
      ]
     },
     "metadata": {},
     "output_type": "display_data"
    },
    {
     "data": {
      "application/vnd.jupyter.widget-view+json": {
       "model_id": "aca40c6aaaae43d18d2d5f2aee5eedbd",
       "version_major": 2,
       "version_minor": 0
      },
      "text/plain": [
       "episode:   0%|          | 0/288 [00:00<?, ?it/s]"
      ]
     },
     "metadata": {},
     "output_type": "display_data"
    },
    {
     "name": "stdout",
     "output_type": "stream",
     "text": [
      "The results for the evaluated agent are:\n",
      "\tFor chronics with id 2019-01-12\n",
      "\t\t - cumulative reward: 4934.622070\n",
      "\t\t - number of time steps completed: 288 / 288\n"
     ]
    },
    {
     "data": {
      "application/vnd.jupyter.widget-view+json": {
       "model_id": "38a2289266f14d1593dc5691a84b35a4",
       "version_major": 2,
       "version_minor": 0
      },
      "text/plain": [
       "episode:   0%|          | 0/1 [00:00<?, ?it/s]"
      ]
     },
     "metadata": {},
     "output_type": "display_data"
    },
    {
     "data": {
      "application/vnd.jupyter.widget-view+json": {
       "model_id": "5c9b352029484471a890a27d56541402",
       "version_major": 2,
       "version_minor": 0
      },
      "text/plain": [
       "episode:   0%|          | 0/288 [00:00<?, ?it/s]"
      ]
     },
     "metadata": {},
     "output_type": "display_data"
    },
    {
     "name": "stdout",
     "output_type": "stream",
     "text": [
      "The results for the evaluated agent are:\n",
      "\tFor chronics with id 2019-01-13\n",
      "\t\t - cumulative reward: 4914.632812\n",
      "\t\t - number of time steps completed: 288 / 288\n"
     ]
    },
    {
     "data": {
      "application/vnd.jupyter.widget-view+json": {
       "model_id": "664ed3c5142048e1a9a4556d0f50ac55",
       "version_major": 2,
       "version_minor": 0
      },
      "text/plain": [
       "episode:   0%|          | 0/1 [00:00<?, ?it/s]"
      ]
     },
     "metadata": {},
     "output_type": "display_data"
    },
    {
     "data": {
      "application/vnd.jupyter.widget-view+json": {
       "model_id": "93152bfcc8e8420f9b4947647781f5b9",
       "version_major": 2,
       "version_minor": 0
      },
      "text/plain": [
       "episode:   0%|          | 0/288 [00:00<?, ?it/s]"
      ]
     },
     "metadata": {},
     "output_type": "display_data"
    },
    {
     "name": "stdout",
     "output_type": "stream",
     "text": [
      "The results for the evaluated agent are:\n",
      "\tFor chronics with id 2019-01-14\n",
      "\t\t - cumulative reward: 3719.424561\n",
      "\t\t - number of time steps completed: 230 / 288\n"
     ]
    },
    {
     "data": {
      "application/vnd.jupyter.widget-view+json": {
       "model_id": "67b108a09ab7497cbdfd9dd4aed206ec",
       "version_major": 2,
       "version_minor": 0
      },
      "text/plain": [
       "episode:   0%|          | 0/1 [00:00<?, ?it/s]"
      ]
     },
     "metadata": {},
     "output_type": "display_data"
    },
    {
     "data": {
      "application/vnd.jupyter.widget-view+json": {
       "model_id": "b0629ba57868441495818b79e5419f05",
       "version_major": 2,
       "version_minor": 0
      },
      "text/plain": [
       "episode:   0%|          | 0/288 [00:00<?, ?it/s]"
      ]
     },
     "metadata": {},
     "output_type": "display_data"
    },
    {
     "name": "stdout",
     "output_type": "stream",
     "text": [
      "The results for the evaluated agent are:\n",
      "\tFor chronics with id 2019-01-15\n",
      "\t\t - cumulative reward: 4600.714355\n",
      "\t\t - number of time steps completed: 288 / 288\n"
     ]
    },
    {
     "data": {
      "application/vnd.jupyter.widget-view+json": {
       "model_id": "d18c131b41ae4814a253bfd4d3798252",
       "version_major": 2,
       "version_minor": 0
      },
      "text/plain": [
       "episode:   0%|          | 0/1 [00:00<?, ?it/s]"
      ]
     },
     "metadata": {},
     "output_type": "display_data"
    },
    {
     "data": {
      "application/vnd.jupyter.widget-view+json": {
       "model_id": "d10b4d3e622c494fb9c578300cb2ecc0",
       "version_major": 2,
       "version_minor": 0
      },
      "text/plain": [
       "episode:   0%|          | 0/288 [00:00<?, ?it/s]"
      ]
     },
     "metadata": {},
     "output_type": "display_data"
    },
    {
     "name": "stdout",
     "output_type": "stream",
     "text": [
      "The results for the evaluated agent are:\n",
      "\tFor chronics with id 2019-01-16\n",
      "\t\t - cumulative reward: 3964.305908\n",
      "\t\t - number of time steps completed: 241 / 288\n"
     ]
    },
    {
     "data": {
      "application/vnd.jupyter.widget-view+json": {
       "model_id": "c3089c85ea534a65b21d10cbcc3f9301",
       "version_major": 2,
       "version_minor": 0
      },
      "text/plain": [
       "episode:   0%|          | 0/1 [00:00<?, ?it/s]"
      ]
     },
     "metadata": {},
     "output_type": "display_data"
    },
    {
     "data": {
      "application/vnd.jupyter.widget-view+json": {
       "model_id": "0da2b5c842d446519ebd9670ae41d48d",
       "version_major": 2,
       "version_minor": 0
      },
      "text/plain": [
       "episode:   0%|          | 0/288 [00:00<?, ?it/s]"
      ]
     },
     "metadata": {},
     "output_type": "display_data"
    },
    {
     "name": "stdout",
     "output_type": "stream",
     "text": [
      "The results for the evaluated agent are:\n",
      "\tFor chronics with id 2019-01-17\n",
      "\t\t - cumulative reward: 1807.971436\n",
      "\t\t - number of time steps completed: 109 / 288\n"
     ]
    },
    {
     "data": {
      "application/vnd.jupyter.widget-view+json": {
       "model_id": "f764647e53b44e11afd5638aa6fad26c",
       "version_major": 2,
       "version_minor": 0
      },
      "text/plain": [
       "episode:   0%|          | 0/1 [00:00<?, ?it/s]"
      ]
     },
     "metadata": {},
     "output_type": "display_data"
    },
    {
     "data": {
      "application/vnd.jupyter.widget-view+json": {
       "model_id": "7fc6f2ad65a24b22abaca28889c30800",
       "version_major": 2,
       "version_minor": 0
      },
      "text/plain": [
       "episode:   0%|          | 0/288 [00:00<?, ?it/s]"
      ]
     },
     "metadata": {},
     "output_type": "display_data"
    },
    {
     "name": "stdout",
     "output_type": "stream",
     "text": [
      "The results for the evaluated agent are:\n",
      "\tFor chronics with id 2019-01-18\n",
      "\t\t - cumulative reward: 1474.747925\n",
      "\t\t - number of time steps completed: 93 / 288\n"
     ]
    },
    {
     "data": {
      "application/vnd.jupyter.widget-view+json": {
       "model_id": "861d58285362486b99e60aae9436d0e4",
       "version_major": 2,
       "version_minor": 0
      },
      "text/plain": [
       "episode:   0%|          | 0/1 [00:00<?, ?it/s]"
      ]
     },
     "metadata": {},
     "output_type": "display_data"
    },
    {
     "data": {
      "application/vnd.jupyter.widget-view+json": {
       "model_id": "483721b558db41f9ae26aa2ad3f92040",
       "version_major": 2,
       "version_minor": 0
      },
      "text/plain": [
       "episode:   0%|          | 0/288 [00:00<?, ?it/s]"
      ]
     },
     "metadata": {},
     "output_type": "display_data"
    },
    {
     "name": "stdout",
     "output_type": "stream",
     "text": [
      "The results for the evaluated agent are:\n",
      "\tFor chronics with id 2019-01-12\n",
      "\t\t - cumulative reward: 4934.622070\n",
      "\t\t - number of time steps completed: 288 / 288\n"
     ]
    },
    {
     "data": {
      "application/vnd.jupyter.widget-view+json": {
       "model_id": "9dc2ae03e30a403da9fbe53ac65d35c3",
       "version_major": 2,
       "version_minor": 0
      },
      "text/plain": [
       "episode:   0%|          | 0/1 [00:00<?, ?it/s]"
      ]
     },
     "metadata": {},
     "output_type": "display_data"
    },
    {
     "data": {
      "application/vnd.jupyter.widget-view+json": {
       "model_id": "4694aa2dfd094cd08af0304480438039",
       "version_major": 2,
       "version_minor": 0
      },
      "text/plain": [
       "episode:   0%|          | 0/288 [00:00<?, ?it/s]"
      ]
     },
     "metadata": {},
     "output_type": "display_data"
    },
    {
     "name": "stdout",
     "output_type": "stream",
     "text": [
      "The results for the evaluated agent are:\n",
      "\tFor chronics with id 2019-01-13\n",
      "\t\t - cumulative reward: 4914.632812\n",
      "\t\t - number of time steps completed: 288 / 288\n"
     ]
    },
    {
     "data": {
      "application/vnd.jupyter.widget-view+json": {
       "model_id": "d5d595f19a954e039f10ef91e57c8ac8",
       "version_major": 2,
       "version_minor": 0
      },
      "text/plain": [
       "episode:   0%|          | 0/1 [00:00<?, ?it/s]"
      ]
     },
     "metadata": {},
     "output_type": "display_data"
    },
    {
     "data": {
      "application/vnd.jupyter.widget-view+json": {
       "model_id": "33c06925c8a0402b9873d72b01a73121",
       "version_major": 2,
       "version_minor": 0
      },
      "text/plain": [
       "episode:   0%|          | 0/288 [00:00<?, ?it/s]"
      ]
     },
     "metadata": {},
     "output_type": "display_data"
    },
    {
     "name": "stdout",
     "output_type": "stream",
     "text": [
      "The results for the evaluated agent are:\n",
      "\tFor chronics with id 2019-01-14\n",
      "\t\t - cumulative reward: 3719.424561\n",
      "\t\t - number of time steps completed: 230 / 288\n"
     ]
    }
   ],
   "source": [
    "env = ma_env._cent_env \n",
    "\n",
    "path_agents = \"study_agent_getting_started\"\n",
    "max_iter = 10_000\n",
    "\n",
    "shutil.rmtree(os.path.abspath(path_agents), ignore_errors=True)\n",
    "if not os.path.exists(path_agents):\n",
    "    os.mkdir(path_agents)\n",
    "\n",
    "# make a runner for this agent\n",
    "path_agent = os.path.join(path_agents, \"ReplayAgent\")\n",
    "shutil.rmtree(os.path.abspath(path_agent), ignore_errors=True)\n",
    "\n",
    "env.seed(0)\n",
    "env.set_id(0)\n",
    "\n",
    "replay_simple_cum_rewards = []\n",
    "\n",
    "for i, replay in enumerate(one_agent_replays):\n",
    "\n",
    "    runner = Runner(**env.get_params_for_runner(),\n",
    "                    agentClass=None,\n",
    "                    agentInstance=replay\n",
    "                    )\n",
    "    res = runner.run(path_save=path_agent,\n",
    "                     nb_episode=1, \n",
    "                     max_iter=max_iter,\n",
    "                     env_seeds=[0],\n",
    "                     episode_id=[i],\n",
    "                     pbar=tqdm)\n",
    "    print(\"The results for the evaluated agent are:\")\n",
    "    for _, chron_id, cum_reward, nb_time_step, max_ts in res:\n",
    "        replay_simple_cum_rewards.append(cum_reward)\n",
    "        msg_tmp = \"\\tFor chronics with id {}\\n\".format(chron_id)\n",
    "        msg_tmp += \"\\t\\t - cumulative reward: {:.6f}\\n\".format(cum_reward)\n",
    "        msg_tmp += \"\\t\\t - number of time steps completed: {:.0f} / {:.0f}\".format(nb_time_step, max_ts)\n",
    "        print(msg_tmp)"
   ]
  },
  {
   "cell_type": "code",
   "execution_count": 64,
   "metadata": {},
   "outputs": [
    {
     "data": {
      "text/plain": [
       "[<matplotlib.lines.Line2D at 0x7fcd672230d0>]"
      ]
     },
     "execution_count": 64,
     "metadata": {},
     "output_type": "execute_result"
    },
    {
     "data": {
      "image/png": "[encoded data removed]",
      "text/plain": [
       "<Figure size 432x288 with 1 Axes>"
      ]
     },
     "metadata": {
      "needs_background": "light"
     },
     "output_type": "display_data"
    }
   ],
   "source": [
    "plt.plot(results_ma['rewards'][9])\n",
    "plt.plot(results_simple['rewards'][9])"
   ]
  },
  {
   "cell_type": "code",
   "execution_count": 96,
   "metadata": {},
   "outputs": [
    {
     "data": {
      "application/vnd.jupyter.widget-view+json": {
       "model_id": "4f9370f5a16941c0ace13b869eedf17d",
       "version_major": 2,
       "version_minor": 0
      },
      "text/plain": [
       "episode:   0%|          | 0/1 [00:00<?, ?it/s]"
      ]
     },
     "metadata": {},
     "output_type": "display_data"
    },
    {
     "data": {
      "application/vnd.jupyter.widget-view+json": {
       "model_id": "64b72a25724449f0807f73e56203f179",
       "version_major": 2,
       "version_minor": 0
      },
      "text/plain": [
       "episode:   0%|          | 0/288 [00:00<?, ?it/s]"
      ]
     },
     "metadata": {},
     "output_type": "display_data"
    },
    {
     "name": "stdout",
     "output_type": "stream",
     "text": [
      "The results for the evaluated agent are:\n",
      "\tFor chronics with id 2019-01-12\n",
      "\t\t - cumulative reward: 4688.167480\n",
      "\t\t - number of time steps completed: 288 / 288\n"
     ]
    },
    {
     "data": {
      "application/vnd.jupyter.widget-view+json": {
       "model_id": "e0cc7d0f10ff48baae36b2056f251704",
       "version_major": 2,
       "version_minor": 0
      },
      "text/plain": [
       "episode:   0%|          | 0/1 [00:00<?, ?it/s]"
      ]
     },
     "metadata": {},
     "output_type": "display_data"
    },
    {
     "data": {
      "application/vnd.jupyter.widget-view+json": {
       "model_id": "d277ffde041a48e49525bd261913b569",
       "version_major": 2,
       "version_minor": 0
      },
      "text/plain": [
       "episode:   0%|          | 0/288 [00:00<?, ?it/s]"
      ]
     },
     "metadata": {},
     "output_type": "display_data"
    },
    {
     "name": "stdout",
     "output_type": "stream",
     "text": [
      "The results for the evaluated agent are:\n",
      "\tFor chronics with id 2019-01-13\n",
      "\t\t - cumulative reward: 4685.237305\n",
      "\t\t - number of time steps completed: 288 / 288\n"
     ]
    },
    {
     "data": {
      "application/vnd.jupyter.widget-view+json": {
       "model_id": "adffaa63f34e42139b470a60991b9c5b",
       "version_major": 2,
       "version_minor": 0
      },
      "text/plain": [
       "episode:   0%|          | 0/1 [00:00<?, ?it/s]"
      ]
     },
     "metadata": {},
     "output_type": "display_data"
    },
    {
     "data": {
      "application/vnd.jupyter.widget-view+json": {
       "model_id": "ac880a13259740d09145085abdd26d31",
       "version_major": 2,
       "version_minor": 0
      },
      "text/plain": [
       "episode:   0%|          | 0/288 [00:00<?, ?it/s]"
      ]
     },
     "metadata": {},
     "output_type": "display_data"
    },
    {
     "name": "stdout",
     "output_type": "stream",
     "text": [
      "The results for the evaluated agent are:\n",
      "\tFor chronics with id 2019-01-14\n",
      "\t\t - cumulative reward: 3344.289551\n",
      "\t\t - number of time steps completed: 220 / 288\n"
     ]
    },
    {
     "data": {
      "application/vnd.jupyter.widget-view+json": {
       "model_id": "c96acd393c56459cbb3eb748e4833fb0",
       "version_major": 2,
       "version_minor": 0
      },
      "text/plain": [
       "episode:   0%|          | 0/1 [00:00<?, ?it/s]"
      ]
     },
     "metadata": {},
     "output_type": "display_data"
    },
    {
     "data": {
      "application/vnd.jupyter.widget-view+json": {
       "model_id": "17d0e1e6e7344dafa3db75517acf807d",
       "version_major": 2,
       "version_minor": 0
      },
      "text/plain": [
       "episode:   0%|          | 0/288 [00:00<?, ?it/s]"
      ]
     },
     "metadata": {},
     "output_type": "display_data"
    },
    {
     "name": "stdout",
     "output_type": "stream",
     "text": [
      "The results for the evaluated agent are:\n",
      "\tFor chronics with id 2019-01-15\n",
      "\t\t - cumulative reward: 1388.156250\n",
      "\t\t - number of time steps completed: 90 / 288\n"
     ]
    },
    {
     "data": {
      "application/vnd.jupyter.widget-view+json": {
       "model_id": "8ae395cd2be24e09b976fa88ff9b526d",
       "version_major": 2,
       "version_minor": 0
      },
      "text/plain": [
       "episode:   0%|          | 0/1 [00:00<?, ?it/s]"
      ]
     },
     "metadata": {},
     "output_type": "display_data"
    },
    {
     "data": {
      "application/vnd.jupyter.widget-view+json": {
       "model_id": "e37841945e7145f68b08eb91fc3aa252",
       "version_major": 2,
       "version_minor": 0
      },
      "text/plain": [
       "episode:   0%|          | 0/288 [00:00<?, ?it/s]"
      ]
     },
     "metadata": {},
     "output_type": "display_data"
    },
    {
     "name": "stdout",
     "output_type": "stream",
     "text": [
      "The results for the evaluated agent are:\n",
      "\tFor chronics with id 2019-01-16\n",
      "\t\t - cumulative reward: 3623.987061\n",
      "\t\t - number of time steps completed: 236 / 288\n"
     ]
    },
    {
     "data": {
      "application/vnd.jupyter.widget-view+json": {
       "model_id": "fcf34e307b1a40e8a3be77d4dd35557e",
       "version_major": 2,
       "version_minor": 0
      },
      "text/plain": [
       "episode:   0%|          | 0/1 [00:00<?, ?it/s]"
      ]
     },
     "metadata": {},
     "output_type": "display_data"
    },
    {
     "data": {
      "application/vnd.jupyter.widget-view+json": {
       "model_id": "72a4915c5ca74da08ff7741afc34865d",
       "version_major": 2,
       "version_minor": 0
      },
      "text/plain": [
       "episode:   0%|          | 0/288 [00:00<?, ?it/s]"
      ]
     },
     "metadata": {},
     "output_type": "display_data"
    },
    {
     "name": "stdout",
     "output_type": "stream",
     "text": [
      "The results for the evaluated agent are:\n",
      "\tFor chronics with id 2019-01-17\n",
      "\t\t - cumulative reward: 3546.453125\n",
      "\t\t - number of time steps completed: 234 / 288\n"
     ]
    },
    {
     "data": {
      "application/vnd.jupyter.widget-view+json": {
       "model_id": "d15cb9e0990247b1a4aa3b3de7aed36a",
       "version_major": 2,
       "version_minor": 0
      },
      "text/plain": [
       "episode:   0%|          | 0/1 [00:00<?, ?it/s]"
      ]
     },
     "metadata": {},
     "output_type": "display_data"
    },
    {
     "data": {
      "application/vnd.jupyter.widget-view+json": {
       "model_id": "ebb53350222d4765b71592897ebbd46e",
       "version_major": 2,
       "version_minor": 0
      },
      "text/plain": [
       "episode:   0%|          | 0/288 [00:00<?, ?it/s]"
      ]
     },
     "metadata": {},
     "output_type": "display_data"
    },
    {
     "name": "stdout",
     "output_type": "stream",
     "text": [
      "The results for the evaluated agent are:\n",
      "\tFor chronics with id 2019-01-18\n",
      "\t\t - cumulative reward: 1281.684448\n",
      "\t\t - number of time steps completed: 86 / 288\n"
     ]
    },
    {
     "data": {
      "application/vnd.jupyter.widget-view+json": {
       "model_id": "58209e9ae6204ecdabf24031d8984c29",
       "version_major": 2,
       "version_minor": 0
      },
      "text/plain": [
       "episode:   0%|          | 0/1 [00:00<?, ?it/s]"
      ]
     },
     "metadata": {},
     "output_type": "display_data"
    },
    {
     "data": {
      "application/vnd.jupyter.widget-view+json": {
       "model_id": "1b35af73cadf4a4094e56cc46e7162c3",
       "version_major": 2,
       "version_minor": 0
      },
      "text/plain": [
       "episode:   0%|          | 0/288 [00:00<?, ?it/s]"
      ]
     },
     "metadata": {},
     "output_type": "display_data"
    },
    {
     "name": "stdout",
     "output_type": "stream",
     "text": [
      "The results for the evaluated agent are:\n",
      "\tFor chronics with id 2019-01-12\n",
      "\t\t - cumulative reward: 4688.167480\n",
      "\t\t - number of time steps completed: 288 / 288\n"
     ]
    },
    {
     "data": {
      "application/vnd.jupyter.widget-view+json": {
       "model_id": "eba0658549644c2d8dade729e78e64dd",
       "version_major": 2,
       "version_minor": 0
      },
      "text/plain": [
       "episode:   0%|          | 0/1 [00:00<?, ?it/s]"
      ]
     },
     "metadata": {},
     "output_type": "display_data"
    },
    {
     "data": {
      "application/vnd.jupyter.widget-view+json": {
       "model_id": "eb195201a87b4e89b6f5fdee27a3658a",
       "version_major": 2,
       "version_minor": 0
      },
      "text/plain": [
       "episode:   0%|          | 0/288 [00:00<?, ?it/s]"
      ]
     },
     "metadata": {},
     "output_type": "display_data"
    },
    {
     "name": "stdout",
     "output_type": "stream",
     "text": [
      "The results for the evaluated agent are:\n",
      "\tFor chronics with id 2019-01-13\n",
      "\t\t - cumulative reward: 4685.237305\n",
      "\t\t - number of time steps completed: 288 / 288\n"
     ]
    },
    {
     "data": {
      "application/vnd.jupyter.widget-view+json": {
       "model_id": "ca3ddec2f0d24b2ebcc32f9473a2aaeb",
       "version_major": 2,
       "version_minor": 0
      },
      "text/plain": [
       "episode:   0%|          | 0/1 [00:00<?, ?it/s]"
      ]
     },
     "metadata": {},
     "output_type": "display_data"
    },
    {
     "data": {
      "application/vnd.jupyter.widget-view+json": {
       "model_id": "ac54a17e7e744e6092aec7888f49688f",
       "version_major": 2,
       "version_minor": 0
      },
      "text/plain": [
       "episode:   0%|          | 0/288 [00:00<?, ?it/s]"
      ]
     },
     "metadata": {},
     "output_type": "display_data"
    },
    {
     "name": "stdout",
     "output_type": "stream",
     "text": [
      "The results for the evaluated agent are:\n",
      "\tFor chronics with id 2019-01-14\n",
      "\t\t - cumulative reward: 3344.289551\n",
      "\t\t - number of time steps completed: 220 / 288\n"
     ]
    }
   ],
   "source": [
    "from grid2op.Agent import DoNothingAgent\n",
    "env = ma_env._cent_env \n",
    "\n",
    "path_agents = \"study_agent_getting_started\"\n",
    "max_iter = 10_000\n",
    "\n",
    "shutil.rmtree(os.path.abspath(path_agents), ignore_errors=True)\n",
    "if not os.path.exists(path_agents):\n",
    "    os.mkdir(path_agents)\n",
    "\n",
    "# make a runner for this agent\n",
    "path_agent = os.path.join(path_agents, \"ReplayAgent\")\n",
    "shutil.rmtree(os.path.abspath(path_agent), ignore_errors=True)\n",
    "\n",
    "env.seed(0)\n",
    "env.set_id(0)\n",
    "\n",
    "replay_simple_cum_rewards = []\n",
    "\n",
    "for i, replay in enumerate(one_agent_replays):\n",
    "\n",
    "    runner = Runner(**env.get_params_for_runner(),\n",
    "                    agentClass=DoNothingAgent,\n",
    "                    )\n",
    "    res = runner.run(path_save=path_agent,\n",
    "                     nb_episode=1, \n",
    "                     max_iter=max_iter,\n",
    "                     env_seeds=[0],\n",
    "                     episode_id=[i],\n",
    "                     pbar=tqdm)\n",
    "    print(\"The results for the evaluated agent are:\")\n",
    "    for _, chron_id, cum_reward, nb_time_step, max_ts in res:\n",
    "        replay_simple_cum_rewards.append(cum_reward)\n",
    "        msg_tmp = \"\\tFor chronics with id {}\\n\".format(chron_id)\n",
    "        msg_tmp += \"\\t\\t - cumulative reward: {:.6f}\\n\".format(cum_reward)\n",
    "        msg_tmp += \"\\t\\t - number of time steps completed: {:.0f} / {:.0f}\".format(nb_time_step, max_ts)\n",
    "        print(msg_tmp)"
   ]
  },
  {
   "cell_type": "code",
   "execution_count": null,
   "metadata": {},
   "outputs": [],
   "source": []
  },
  {
   "cell_type": "markdown",
   "metadata": {},
   "source": [
    "### Each agent try to predict other agent's action"
   ]
  },
  {
   "cell_type": "code",
   "execution_count": 28,
   "metadata": {},
   "outputs": [],
   "source": [
    "# load trained models\n",
    "import pickle\n",
    "with open('agent0_predictor_forest_l2rpn.pkl', 'rb') as f:\n",
    "    model0 = pickle.load(f)\n",
    "with open('agent1_predictor_forest_l2rpn.pkl', 'rb') as f:\n",
    "    model1 = pickle.load(f)\n"
   ]
  },
  {
   "cell_type": "code",
   "execution_count": 29,
   "metadata": {},
   "outputs": [],
   "source": [
    "predictors10 = {\n",
    "    'agent_0' : Predictor(\n",
    "        ma_env.action_spaces['agent_1'],\n",
    "        model=model1\n",
    "    ),\n",
    "    'agent_1' : Predictor(\n",
    "        ma_env.action_spaces['agent_0'],\n",
    "        do_nothing=True\n",
    "    ),\n",
    "}\n",
    "\n",
    "predictors01 = {\n",
    "    'agent_0' : Predictor(\n",
    "        ma_env.action_spaces['agent_1'],\n",
    "        do_nothing=True\n",
    "    ),\n",
    "    'agent_1' : Predictor(\n",
    "        ma_env.action_spaces['agent_0'],\n",
    "        model=model0\n",
    "    ),\n",
    "}\n",
    "\n",
    "predictors11 = {\n",
    "    'agent_0' : Predictor(\n",
    "        ma_env.action_spaces['agent_1'],\n",
    "        model=model1\n",
    "    ),\n",
    "    'agent_1' : Predictor(\n",
    "        ma_env.action_spaces['agent_0'],\n",
    "        model=model0\n",
    "    ),\n",
    "}"
   ]
  },
  {
   "cell_type": "code",
   "execution_count": 27,
   "metadata": {},
   "outputs": [
    {
     "name": "stdout",
     "output_type": "stream",
     "text": [
      "Running multi-agent simulation !\n"
     ]
    },
    {
     "data": {
      "application/vnd.jupyter.widget-view+json": {
       "model_id": "b94de1c400044ba9bce157e904190253",
       "version_major": 2,
       "version_minor": 0
      },
      "text/plain": [
       "  0%|          | 0/10 [00:00<?, ?it/s]"
      ]
     },
     "metadata": {},
     "output_type": "display_data"
    }
   ],
   "source": [
    "from grid2op.Agent import TopologyGreedy\n",
    "\n",
    "simple_actor = TopologyGreedy(env.action_space)\n",
    "episodes = 10\n",
    "ma_actors = dict()\n",
    "for agent_nm in ma_env.agents:\n",
    "    ma_actors[agent_nm] = LocalTopologyGreedyExpert(\n",
    "        agent_nm,\n",
    "        ma_env.action_spaces[agent_nm],\n",
    "        ma_env,\n",
    "        predictors01\n",
    "    )\n",
    "    \n",
    "ma_env.seed(0)\n",
    "ma_env._cent_env.set_id(0)\n",
    "\n",
    "results_ma01 = _run_ma_actors(\n",
    "    ma_env,\n",
    "    actors=ma_actors,\n",
    "    nb_episodes=episodes,\n",
    "    # TODO plus d'episodes\n",
    ")\n",
    "np.save('results_ma_w_01predict_l2rpn.npy', arr=results_ma01)"
   ]
  },
  {
   "cell_type": "code",
   "execution_count": 30,
   "metadata": {},
   "outputs": [
    {
     "name": "stdout",
     "output_type": "stream",
     "text": [
      "Running multi-agent simulation !\n"
     ]
    },
    {
     "data": {
      "application/vnd.jupyter.widget-view+json": {
       "model_id": "ee03556fb1b14f67b27c74e8b95369c4",
       "version_major": 2,
       "version_minor": 0
      },
      "text/plain": [
       "  0%|          | 0/10 [00:00<?, ?it/s]"
      ]
     },
     "metadata": {},
     "output_type": "display_data"
    }
   ],
   "source": [
    "simple_actor = TopologyGreedy(env.action_space)\n",
    "episodes = 10\n",
    "ma_actors = dict()\n",
    "for agent_nm in ma_env.agents:\n",
    "    ma_actors[agent_nm] = LocalTopologyGreedyExpert(\n",
    "        agent_nm,\n",
    "        ma_env.action_spaces[agent_nm],\n",
    "        ma_env,\n",
    "        predictors10\n",
    "    )\n",
    "    \n",
    "ma_env.seed(0)\n",
    "ma_env._cent_env.set_id(0)\n",
    "\n",
    "results_ma10 = _run_ma_actors(\n",
    "    ma_env,\n",
    "    actors=ma_actors,\n",
    "    nb_episodes=episodes,\n",
    "    # TODO plus d'episodes\n",
    ")\n",
    "np.save('results_ma_w_10predict_l2rpn.npy', arr=results_ma10)"
   ]
  },
  {
   "cell_type": "code",
   "execution_count": 31,
   "metadata": {},
   "outputs": [
    {
     "name": "stdout",
     "output_type": "stream",
     "text": [
      "Running multi-agent simulation !\n"
     ]
    },
    {
     "data": {
      "application/vnd.jupyter.widget-view+json": {
       "model_id": "1c22614f59354ae0a985fd3120d5f8a5",
       "version_major": 2,
       "version_minor": 0
      },
      "text/plain": [
       "  0%|          | 0/10 [00:00<?, ?it/s]"
      ]
     },
     "metadata": {},
     "output_type": "display_data"
    }
   ],
   "source": [
    "simple_actor = TopologyGreedy(env.action_space)\n",
    "episodes = 10\n",
    "ma_actors = dict()\n",
    "for agent_nm in ma_env.agents:\n",
    "    ma_actors[agent_nm] = LocalTopologyGreedyExpert(\n",
    "        agent_nm,\n",
    "        ma_env.action_spaces[agent_nm],\n",
    "        ma_env,\n",
    "        predictors11\n",
    "    )\n",
    "    \n",
    "ma_env.seed(0)\n",
    "ma_env._cent_env.set_id(0)\n",
    "\n",
    "results_ma11 = _run_ma_actors(\n",
    "    ma_env,\n",
    "    actors=ma_actors,\n",
    "    nb_episodes=episodes,\n",
    "    # TODO plus d'episodes\n",
    ")\n",
    "np.save('results_ma_w_11predict_l2rpn.npy', arr=results_ma11)"
   ]
  },
  {
   "cell_type": "code",
   "execution_count": 26,
   "metadata": {},
   "outputs": [],
   "source": [
    "np.save('results_ma_w_predict.npy', arr=results_ma)"
   ]
  },
  {
   "cell_type": "code",
   "execution_count": 27,
   "metadata": {},
   "outputs": [],
   "source": [
    "from grid2op.Agent.fromActionsListAgent import FromActionsListAgent\n",
    "\n",
    "one_agent_replays = []\n",
    "replays = []\n",
    "for episode in range(episodes):\n",
    "    # Faire plusieurs replay sur plusieurs episodes\n",
    "    replays.append(\n",
    "        FromActionsListAgent(\n",
    "            env.action_space,\n",
    "            results_ma['actions'][episode]\n",
    "        )\n",
    "    )"
   ]
  },
  {
   "cell_type": "code",
   "execution_count": 28,
   "metadata": {},
   "outputs": [
    {
     "data": {
      "application/vnd.jupyter.widget-view+json": {
       "model_id": "30b53a92ef904250a1470cfb1ddc34a6",
       "version_major": 2,
       "version_minor": 0
      },
      "text/plain": [
       "episode:   0%|          | 0/1 [00:00<?, ?it/s]"
      ]
     },
     "metadata": {},
     "output_type": "display_data"
    },
    {
     "data": {
      "application/vnd.jupyter.widget-view+json": {
       "model_id": "8b6931e94f724762b52e346b4d78c417",
       "version_major": 2,
       "version_minor": 0
      },
      "text/plain": [
       "episode:   0%|          | 0/288 [00:00<?, ?it/s]"
      ]
     },
     "metadata": {},
     "output_type": "display_data"
    },
    {
     "name": "stdout",
     "output_type": "stream",
     "text": [
      "The results for the evaluated agent are:\n",
      "\tFor chronics with id 2019-01-12\n",
      "\t\t - cumulative reward: 4934.969238\n",
      "\t\t - number of time steps completed: 288 / 288\n"
     ]
    },
    {
     "data": {
      "application/vnd.jupyter.widget-view+json": {
       "model_id": "78a76ab5dec443debe2d5d2d73244b0f",
       "version_major": 2,
       "version_minor": 0
      },
      "text/plain": [
       "episode:   0%|          | 0/1 [00:00<?, ?it/s]"
      ]
     },
     "metadata": {},
     "output_type": "display_data"
    },
    {
     "data": {
      "application/vnd.jupyter.widget-view+json": {
       "model_id": "652a8d961c09481b84d5e9a7670b4329",
       "version_major": 2,
       "version_minor": 0
      },
      "text/plain": [
       "episode:   0%|          | 0/288 [00:00<?, ?it/s]"
      ]
     },
     "metadata": {},
     "output_type": "display_data"
    },
    {
     "name": "stdout",
     "output_type": "stream",
     "text": [
      "The results for the evaluated agent are:\n",
      "\tFor chronics with id 2019-01-13\n",
      "\t\t - cumulative reward: 4915.104980\n",
      "\t\t - number of time steps completed: 288 / 288\n"
     ]
    },
    {
     "data": {
      "application/vnd.jupyter.widget-view+json": {
       "model_id": "e367a6e369a94525abee79045fc3fe12",
       "version_major": 2,
       "version_minor": 0
      },
      "text/plain": [
       "episode:   0%|          | 0/1 [00:00<?, ?it/s]"
      ]
     },
     "metadata": {},
     "output_type": "display_data"
    },
    {
     "data": {
      "application/vnd.jupyter.widget-view+json": {
       "model_id": "7fbb728049a442a29694f2db693e40ee",
       "version_major": 2,
       "version_minor": 0
      },
      "text/plain": [
       "episode:   0%|          | 0/288 [00:00<?, ?it/s]"
      ]
     },
     "metadata": {},
     "output_type": "display_data"
    },
    {
     "name": "stdout",
     "output_type": "stream",
     "text": [
      "The results for the evaluated agent are:\n",
      "\tFor chronics with id 2019-01-14\n",
      "\t\t - cumulative reward: 3661.568115\n",
      "\t\t - number of time steps completed: 226 / 288\n"
     ]
    },
    {
     "data": {
      "application/vnd.jupyter.widget-view+json": {
       "model_id": "b960b9468abe43a09dccc4f850c99821",
       "version_major": 2,
       "version_minor": 0
      },
      "text/plain": [
       "episode:   0%|          | 0/1 [00:00<?, ?it/s]"
      ]
     },
     "metadata": {},
     "output_type": "display_data"
    },
    {
     "data": {
      "application/vnd.jupyter.widget-view+json": {
       "model_id": "281d5376280547a0bec2fb5ccf13fa3e",
       "version_major": 2,
       "version_minor": 0
      },
      "text/plain": [
       "episode:   0%|          | 0/288 [00:00<?, ?it/s]"
      ]
     },
     "metadata": {},
     "output_type": "display_data"
    },
    {
     "name": "stdout",
     "output_type": "stream",
     "text": [
      "The results for the evaluated agent are:\n",
      "\tFor chronics with id 2019-01-15\n",
      "\t\t - cumulative reward: 4600.977539\n",
      "\t\t - number of time steps completed: 288 / 288\n"
     ]
    },
    {
     "data": {
      "application/vnd.jupyter.widget-view+json": {
       "model_id": "26c28ec1ea3e4964bd6a09924ee6002d",
       "version_major": 2,
       "version_minor": 0
      },
      "text/plain": [
       "episode:   0%|          | 0/1 [00:00<?, ?it/s]"
      ]
     },
     "metadata": {},
     "output_type": "display_data"
    },
    {
     "data": {
      "application/vnd.jupyter.widget-view+json": {
       "model_id": "58c2bb8d278c4da89dee88bd7697abb8",
       "version_major": 2,
       "version_minor": 0
      },
      "text/plain": [
       "episode:   0%|          | 0/288 [00:00<?, ?it/s]"
      ]
     },
     "metadata": {},
     "output_type": "display_data"
    },
    {
     "name": "stdout",
     "output_type": "stream",
     "text": [
      "The results for the evaluated agent are:\n",
      "\tFor chronics with id 2019-01-16\n",
      "\t\t - cumulative reward: 2430.167480\n",
      "\t\t - number of time steps completed: 147 / 288\n"
     ]
    },
    {
     "data": {
      "application/vnd.jupyter.widget-view+json": {
       "model_id": "2f98c817de3b4d8fa19faf2870abc014",
       "version_major": 2,
       "version_minor": 0
      },
      "text/plain": [
       "episode:   0%|          | 0/1 [00:00<?, ?it/s]"
      ]
     },
     "metadata": {},
     "output_type": "display_data"
    },
    {
     "data": {
      "application/vnd.jupyter.widget-view+json": {
       "model_id": "59cb0fa11a644ecf910862be15eb471b",
       "version_major": 2,
       "version_minor": 0
      },
      "text/plain": [
       "episode:   0%|          | 0/288 [00:00<?, ?it/s]"
      ]
     },
     "metadata": {},
     "output_type": "display_data"
    },
    {
     "name": "stdout",
     "output_type": "stream",
     "text": [
      "The results for the evaluated agent are:\n",
      "\tFor chronics with id 2019-01-17\n",
      "\t\t - cumulative reward: 1808.123657\n",
      "\t\t - number of time steps completed: 109 / 288\n"
     ]
    },
    {
     "data": {
      "application/vnd.jupyter.widget-view+json": {
       "model_id": "9e1c3b6ded034d0883416f3a4107c313",
       "version_major": 2,
       "version_minor": 0
      },
      "text/plain": [
       "episode:   0%|          | 0/1 [00:00<?, ?it/s]"
      ]
     },
     "metadata": {},
     "output_type": "display_data"
    },
    {
     "data": {
      "application/vnd.jupyter.widget-view+json": {
       "model_id": "345d7dd519b64f0393b46032c4c6ad05",
       "version_major": 2,
       "version_minor": 0
      },
      "text/plain": [
       "episode:   0%|          | 0/288 [00:00<?, ?it/s]"
      ]
     },
     "metadata": {},
     "output_type": "display_data"
    },
    {
     "name": "stdout",
     "output_type": "stream",
     "text": [
      "The results for the evaluated agent are:\n",
      "\tFor chronics with id 2019-01-18\n",
      "\t\t - cumulative reward: 1475.211914\n",
      "\t\t - number of time steps completed: 93 / 288\n"
     ]
    },
    {
     "data": {
      "application/vnd.jupyter.widget-view+json": {
       "model_id": "e23d6c97ad714b39a62c7285188fc7ea",
       "version_major": 2,
       "version_minor": 0
      },
      "text/plain": [
       "episode:   0%|          | 0/1 [00:00<?, ?it/s]"
      ]
     },
     "metadata": {},
     "output_type": "display_data"
    },
    {
     "data": {
      "application/vnd.jupyter.widget-view+json": {
       "model_id": "3c6fc10925884c4ead526b96be03c49f",
       "version_major": 2,
       "version_minor": 0
      },
      "text/plain": [
       "episode:   0%|          | 0/288 [00:00<?, ?it/s]"
      ]
     },
     "metadata": {},
     "output_type": "display_data"
    },
    {
     "name": "stdout",
     "output_type": "stream",
     "text": [
      "The results for the evaluated agent are:\n",
      "\tFor chronics with id 2019-01-12\n",
      "\t\t - cumulative reward: 4934.969238\n",
      "\t\t - number of time steps completed: 288 / 288\n"
     ]
    },
    {
     "data": {
      "application/vnd.jupyter.widget-view+json": {
       "model_id": "69f7f35d74a04240b9071de74a3e1a46",
       "version_major": 2,
       "version_minor": 0
      },
      "text/plain": [
       "episode:   0%|          | 0/1 [00:00<?, ?it/s]"
      ]
     },
     "metadata": {},
     "output_type": "display_data"
    },
    {
     "data": {
      "application/vnd.jupyter.widget-view+json": {
       "model_id": "b5ea40fccdb14d93bfd4ed4dcfc0619f",
       "version_major": 2,
       "version_minor": 0
      },
      "text/plain": [
       "episode:   0%|          | 0/288 [00:00<?, ?it/s]"
      ]
     },
     "metadata": {},
     "output_type": "display_data"
    },
    {
     "name": "stdout",
     "output_type": "stream",
     "text": [
      "The results for the evaluated agent are:\n",
      "\tFor chronics with id 2019-01-13\n",
      "\t\t - cumulative reward: 4915.104980\n",
      "\t\t - number of time steps completed: 288 / 288\n"
     ]
    },
    {
     "data": {
      "application/vnd.jupyter.widget-view+json": {
       "model_id": "b39bfab07a27468d9fe1e329e79d64c0",
       "version_major": 2,
       "version_minor": 0
      },
      "text/plain": [
       "episode:   0%|          | 0/1 [00:00<?, ?it/s]"
      ]
     },
     "metadata": {},
     "output_type": "display_data"
    },
    {
     "data": {
      "application/vnd.jupyter.widget-view+json": {
       "model_id": "73e19a40d7d5402890a4bb46f0fd3664",
       "version_major": 2,
       "version_minor": 0
      },
      "text/plain": [
       "episode:   0%|          | 0/288 [00:00<?, ?it/s]"
      ]
     },
     "metadata": {},
     "output_type": "display_data"
    },
    {
     "name": "stdout",
     "output_type": "stream",
     "text": [
      "The results for the evaluated agent are:\n",
      "\tFor chronics with id 2019-01-14\n",
      "\t\t - cumulative reward: 3661.568115\n",
      "\t\t - number of time steps completed: 226 / 288\n"
     ]
    }
   ],
   "source": [
    "from grid2op.Runner import Runner\n",
    "import os \n",
    "import shutil\n",
    "from tqdm.notebook import tqdm\n",
    "\n",
    "env = ma_env._cent_env \n",
    "\n",
    "path_agents = \"study_agent_getting_started\"\n",
    "max_iter = 10_000\n",
    "\n",
    "shutil.rmtree(os.path.abspath(path_agents), ignore_errors=True)\n",
    "if not os.path.exists(path_agents):\n",
    "    os.mkdir(path_agents)\n",
    "\n",
    "# make a runner for this agent\n",
    "path_agent = os.path.join(path_agents, \"ReplayAgent\")\n",
    "shutil.rmtree(os.path.abspath(path_agent), ignore_errors=True)\n",
    "\n",
    "env.seed(0)\n",
    "env.set_id(0)\n",
    "\n",
    "replay_cum_rewards = []\n",
    "\n",
    "for i, replay in enumerate(replays):\n",
    "\n",
    "    runner = Runner(**env.get_params_for_runner(),\n",
    "                    agentClass=None,\n",
    "                    agentInstance=replay\n",
    "                    )\n",
    "    res = runner.run(path_save=path_agent,\n",
    "                     nb_episode=1, \n",
    "                     max_iter=max_iter,\n",
    "                     env_seeds=[0],\n",
    "                     episode_id=[i],\n",
    "                     pbar=tqdm)\n",
    "    print(\"The results for the evaluated agent are:\")\n",
    "    for _, chron_id, cum_reward, nb_time_step, max_ts in res:\n",
    "        replay_cum_rewards.append(cum_reward)\n",
    "        msg_tmp = \"\\tFor chronics with id {}\\n\".format(chron_id)\n",
    "        msg_tmp += \"\\t\\t - cumulative reward: {:.6f}\\n\".format(cum_reward)\n",
    "        msg_tmp += \"\\t\\t - number of time steps completed: {:.0f} / {:.0f}\".format(nb_time_step, max_ts)\n",
    "        print(msg_tmp)"
   ]
  },
  {
   "cell_type": "code",
   "execution_count": null,
   "metadata": {},
   "outputs": [],
   "source": []
  }
 ],
 "metadata": {
  "interpreter": {
   "hash": "e9695fee56864081dd9787bed9cb2ecf5768f301e19b28b0d4bc6bbab594eacc"
  },
  "kernelspec": {
   "display_name": "Python 3.9.12 ('grid2op')",
   "language": "python",
   "name": "python3"
  },
  "language_info": {
   "codemirror_mode": {
    "name": "ipython",
    "version": 3
   },
   "file_extension": ".py",
   "mimetype": "text/x-python",
   "name": "python",
   "nbconvert_exporter": "python",
   "pygments_lexer": "ipython3",
   "version": "3.9.12"
  },
  "orig_nbformat": 4
 },
 "nbformat": 4,
 "nbformat_minor": 2
}
