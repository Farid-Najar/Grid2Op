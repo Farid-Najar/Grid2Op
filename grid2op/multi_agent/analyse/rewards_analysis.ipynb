{
 "cells": [
  {
   "cell_type": "code",
   "execution_count": 99,
   "metadata": {},
   "outputs": [
    {
     "name": "stderr",
     "output_type": "stream",
     "text": [
      "/home/najarfar/Internship/Grid2Op/grid2op/MakeEnv/Make.py:394: UserWarning: You are using a development environment. This environment is not intended for training agents. It might not be up to date and its primary use if for tests (hence the \"test=True\" you passed as argument). Use at your own risk.\n",
      "  warnings.warn(_MAKE_DEV_ENV_WARN)\n",
      "/home/najarfar/Internship/Grid2Op/grid2op/multi_agent/multiAgentEnv.py:123: UserWarning: Rules can not be changed in this version.\n",
      "  warnings.warn(\"Rules can not be changed in this version.\")\n",
      "/home/najarfar/Internship/Grid2Op/grid2op/multi_agent/multiAgentEnv.py:129: UserWarning: The central env has been heavily modified (parameters and reset) !\n",
      "  warnings.warn(\"The central env has been heavily modified (parameters and reset) !\")\n"
     ]
    }
   ],
   "source": [
    "from grid2op.Agent import BaseAgent\n",
    "from grid2op.Converter.IdToAct import IdToAct\n",
    "\n",
    "from grid2op.multi_agent.ma_typing import LocalObservation, LocalObservationSpace, \\\n",
    "    LocalAction, LocalActionSpace \n",
    "\n",
    "from grid2op import make\n",
    "from grid2op.Action.PlayableAction import PlayableAction\n",
    "from grid2op.Action import BaseAction\n",
    "from grid2op.multi_agent.multiAgentEnv import MultiAgentEnv\n",
    "import numpy as np\n",
    "from grid2op.multi_agent.multi_agentExceptions import *\n",
    "\n",
    "    \n",
    "import numpy as np\n",
    "\n",
    "from lightsim2grid import LightSimBackend\n",
    "bk_cls = LightSimBackend\n",
    "\n",
    "action_domains = {\n",
    "    'agent_0' : [0,1,2,3, 4],\n",
    "    'agent_1' : [5,6,7,8,9,10,11,12,13]\n",
    "}\n",
    "env_name = \"educ_case14_storage\"#\"l2rpn_case14_sandbox\"\n",
    "env = make(env_name, test=True, backend = bk_cls(),\n",
    "                action_class=PlayableAction, _add_to_name=\"_test_ma\")\n",
    "\n",
    "\n",
    "ma_env = MultiAgentEnv(env, action_domains, copy_env=False)\n",
    "\n",
    "ma_env.seed(0)\n",
    "obs = ma_env.reset()\n",
    "        "
   ]
  },
  {
   "cell_type": "code",
   "execution_count": 100,
   "metadata": {},
   "outputs": [],
   "source": [
    "results_simple = dict()\n",
    "results_ma01 = np.load(\"./res_ma01_20/res_ma19.npy\", allow_pickle=True)[None][0]\n",
    "results_ma10 = np.load(\"./res_ma10_20/res_ma19.npy\", allow_pickle=True)[None][0]\n",
    "results_ma11 = np.load(\"./res_ma11_20/res_ma19.npy\", allow_pickle=True)[None][0]\n",
    "results_ma00 = np.load(\"./res_ma00_20/res_ma19.npy\", allow_pickle=True)[None][0]\n",
    "results_simple['cumulative_reward'] = np.load(\"res_single20/single_cum_rewards19.npy\", allow_pickle=True)[None][0]\n",
    "results_simple['episode_len'] = np.load(\"res_single20/single_T19.npy\", allow_pickle=True)[None][0]\n",
    "results_do_nothing = np.load(\"./results50/results_do_nothing50.npy\", allow_pickle=True)[None][0]"
   ]
  },
  {
   "cell_type": "code",
   "execution_count": 64,
   "metadata": {},
   "outputs": [
    {
     "data": {
      "text/plain": [
       "array([2540, 3401, 6749, 5135, 3110, 2462, 5309, 2830,  521, 8064, 5140,\n",
       "       8064, 2411, 3605, 8064, 5341,   57,  177, 8064,  143,  397, 8064,\n",
       "       8064, 6869, 7146, 1297, 4758, 5041, 6744,  717, 1095, 6442, 2438,\n",
       "       1875, 7086, 2536, 8064, 7908, 3272, 2751])"
      ]
     },
     "execution_count": 64,
     "metadata": {},
     "output_type": "execute_result"
    }
   ],
   "source": [
    "crma00 = np.load('results50/cum_rewards40.npy')\n",
    "T00 = np.load('results50/T40.npy')\n",
    "T00[:40]"
   ]
  },
  {
   "cell_type": "code",
   "execution_count": 96,
   "metadata": {},
   "outputs": [
    {
     "data": {
      "image/png": "[encoded data removed]",
      "text/plain": [
       "<Figure size 432x288 with 1 Axes>"
      ]
     },
     "metadata": {
      "needs_background": "light"
     },
     "output_type": "display_data"
    }
   ],
   "source": [
    "import matplotlib.pyplot as plt\n",
    "box_names = [\n",
    "    'do nothing',\n",
    "    'single', \n",
    "    'ma00',\n",
    "    'ma01',\n",
    "    'ma10',\n",
    "    'ma11'\n",
    "]\n",
    "\n",
    "plt.boxplot([\n",
    "    results_do_nothing['cumulative_reward'],\n",
    "    results_simple['cumulative_reward'], \n",
    "    results_ma00['cumulative_reward'],#results_ma00['cumulative_reward'],\n",
    "    results_ma01['cumulative_reward'],\n",
    "    results_ma10['cumulative_reward'],\n",
    "    results_ma11['cumulative_reward'],\n",
    "])\n",
    "plt.xticks(range(1, len(box_names)+1), box_names)\n",
    "plt.title(\"Cumulative rewards\")\n",
    "plt.savefig(\"cumrewards.png\")\n"
   ]
  },
  {
   "cell_type": "code",
   "execution_count": 87,
   "metadata": {},
   "outputs": [
    {
     "data": {
      "image/png": "[encoded data removed]",
      "text/plain": [
       "<Figure size 432x288 with 1 Axes>"
      ]
     },
     "metadata": {
      "needs_background": "light"
     },
     "output_type": "display_data"
    }
   ],
   "source": [
    "import matplotlib.pyplot as plt\n",
    "box_names = [\n",
    "    'do nothing',\n",
    "    'single', \n",
    "    'ma00',\n",
    "    'ma01',\n",
    "    'ma10',\n",
    "    'ma11'\n",
    "]\n",
    "\n",
    "plt.boxplot([\n",
    "    results_do_nothing['episode_len'],\n",
    "    results_simple['episode_len'], \n",
    "    results_ma00  ['episode_len'],\n",
    "    results_ma01  ['episode_len'],\n",
    "    results_ma10  ['episode_len'],\n",
    "    results_ma11  ['episode_len'],\n",
    "])\n",
    "plt.xticks(range(1, len(box_names)+1), box_names)\n",
    "plt.title(\"Survival, max = 8064\")\n",
    "plt.savefig('survival.png')\n",
    "plt.show()"
   ]
  },
  {
   "cell_type": "code",
   "execution_count": 101,
   "metadata": {},
   "outputs": [
    {
     "name": "stdout",
     "output_type": "stream",
     "text": [
      "[99081.11371002198, 224529.234375, 254949.63532714843, 228133.6811035156, 55185.06352539062, 52388.38098144531]\n"
     ]
    },
    {
     "data": {
      "image/png": "[encoded data removed]",
      "text/plain": [
       "<Figure size 432x288 with 1 Axes>"
      ]
     },
     "metadata": {
      "needs_background": "light"
     },
     "output_type": "display_data"
    }
   ],
   "source": [
    "means = []\n",
    "means.append(np.mean(results_do_nothing['cumulative_reward']))\n",
    "means.append(np.mean(results_simple['cumulative_reward']) )\n",
    "means.append(np.mean(results_ma00  ['cumulative_reward']))\n",
    "means.append(np.mean(results_ma01  ['cumulative_reward']))\n",
    "means.append(np.mean(results_ma10  ['cumulative_reward']))\n",
    "means.append(np.mean(results_ma11  ['cumulative_reward']))\n",
    "print(means)\n",
    "plt.title(\"Mean cumulative rewards\")\n",
    "plt.bar(box_names, means)\n",
    "plt.savefig(\"meansr.png\")\n"
   ]
  }
 ],
 "metadata": {
  "interpreter": {
   "hash": "e9695fee56864081dd9787bed9cb2ecf5768f301e19b28b0d4bc6bbab594eacc"
  },
  "kernelspec": {
   "display_name": "Python 3.9.12 ('grid2op')",
   "language": "python",
   "name": "python3"
  },
  "language_info": {
   "codemirror_mode": {
    "name": "ipython",
    "version": 3
   },
   "file_extension": ".py",
   "mimetype": "text/x-python",
   "name": "python",
   "nbconvert_exporter": "python",
   "pygments_lexer": "ipython3",
   "version": "3.9.12"
  },
  "orig_nbformat": 4
 },
 "nbformat": 4,
 "nbformat_minor": 2
}
